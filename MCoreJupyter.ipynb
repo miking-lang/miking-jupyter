{
 "cells": [
  {
   "cell_type": "markdown",
   "metadata": {},
   "source": [
    "# Miking\n",
    "\n",
    "Miking (Meta vIKING) is a meta language system for creating embedded domain-specific and general-purpose languages. Miking is not a programming language, but rather a language system for\n",
    "creating languages and generating efficient compilers.\n",
    "\n",
    "## This Notebook\n",
    "\n",
    "This notebook gives a comprehensive introduction to the Miking language system in an interactive format. It can be seen as a complement to the main `README` intended to be easier to get started with but not covering the same depth.\n",
    "\n",
    "When going through the notebook, we recommend playing around with it by changing the values in code cells or trying out your own examples.\n",
    "\n",
    "## Table of Contents\n",
    "1. [MCore](#MCore)\n",
    "2. [Python Intrinsics](#Python-Intrinsics)\n",
    "3. [Additional Notebook Features](#Notebook-Features)"
   ]
  },
  {
   "cell_type": "markdown",
   "metadata": {},
   "source": [
    "## MCore\n",
    "\n",
    "MCore (Miking Core) is the core language of the Miking system. It is\n",
    "based on a typed Lambda Calculus (Note: the type system is under\n",
    "development, and the current implementation is untyped).\n",
    "\n",
    "MCore consists of two parts:\n",
    "\n",
    "* **MExpr** is an MCore expression. A Miking language is always translated into an MExpr, before it is further evaluated or compiled into machine code.\n",
    "\n",
    "* **MLang** which is a language for defining and composing language fragments. MLang is formally translated into an MExpr.\n",
    "\n",
    "In Jupyter, we support both MExpr and MLang in code cells. In the following sections, we will use both without worrying too much about differentiating between the two."
   ]
  },
  {
   "cell_type": "markdown",
   "metadata": {},
   "source": [
    "### Values and Function Applications\n",
    "\n",
    "MExpr features a number of different types of values:\n",
    "\n",
    "- Bool\n",
    "- Int\n",
    "- Char\n",
    "- Float\n",
    "- String\n",
    "- Sequence\n",
    "- Unit\n",
    "- Record\n",
    "- Tuple\n",
    "- Function\n",
    "- User-defined\n",
    "\n",
    "There are also a number of builtin functions that can be used. For more information on these, see [README.md](./README.md)\n",
    "For instance, the following expression will add the two values 2 and 3."
   ]
  },
  {
   "cell_type": "code",
   "execution_count": null,
   "metadata": {},
   "outputs": [],
   "source": [
    "addi 2 3"
   ]
  },
  {
   "cell_type": "markdown",
   "metadata": {},
   "source": [
    "Next, let's print the iconic `Hello, world!` message"
   ]
  },
  {
   "cell_type": "code",
   "execution_count": null,
   "metadata": {},
   "outputs": [],
   "source": [
    "print \"Hello, world!\""
   ]
  },
  {
   "cell_type": "markdown",
   "metadata": {},
   "source": [
    "### Let Expressions\n",
    "\n",
    "Expressions can be given names using `let` expressions. For instance"
   ]
  },
  {
   "cell_type": "code",
   "execution_count": null,
   "metadata": {},
   "outputs": [],
   "source": [
    "let x = addi 1 2 in\n",
    "eqi x 3"
   ]
  },
  {
   "cell_type": "markdown",
   "metadata": {},
   "source": [
    "introduces a new name `x`. The built-in function `addi`, as we have seen, performs an addition between two integers. Note that MCore uses a call-by-value evaluation order, which means that expressions are evaluated into a value before they are applied to a function or substituted using a `let` expression. Hence, the expression `addi 1 2` is evaluated before it is substituted for `x` in the rest of the expression.\n",
    "\n",
    "Finally, the `eqi` builtin function is used to check that `x` is equal to 3."
   ]
  },
  {
   "cell_type": "markdown",
   "metadata": {},
   "source": [
    "### Top-level Definitions\n",
    "\n",
    "In the above example, `x` is defined only in the scope of the expression following the `in` keyword. To define a variable in the top-level scope, we can simply omit the `in` keyword:"
   ]
  },
  {
   "cell_type": "code",
   "execution_count": null,
   "metadata": {},
   "outputs": [],
   "source": [
    "let x = addi 1 2"
   ]
  },
  {
   "cell_type": "markdown",
   "metadata": {},
   "source": [
    "This lets us reuse `x` in other code cells:"
   ]
  },
  {
   "cell_type": "code",
   "execution_count": null,
   "metadata": {
    "scrolled": true
   },
   "outputs": [],
   "source": [
    "addi x 10"
   ]
  },
  {
   "cell_type": "markdown",
   "metadata": {},
   "source": [
    "If you want to evaluate an expression in the same cell as a definition, you need to take some care. Simply putting one after the other won't produce the correct result:"
   ]
  },
  {
   "cell_type": "code",
   "execution_count": null,
   "metadata": {},
   "outputs": [],
   "source": [
    "let y = addi x 10\n",
    "\n",
    "y"
   ]
  },
  {
   "cell_type": "markdown",
   "metadata": {},
   "source": [
    "Instead, either use a let binding with the `in` keyword, or use the `mexpr` keyword to separate the expression to evaluate, like this"
   ]
  },
  {
   "cell_type": "code",
   "execution_count": null,
   "metadata": {},
   "outputs": [],
   "source": [
    "let y = addi x 10\n",
    "\n",
    "mexpr\n",
    "y"
   ]
  },
  {
   "cell_type": "markdown",
   "metadata": {},
   "source": [
    "Now, both `x` and `y` are in the global scope."
   ]
  },
  {
   "cell_type": "markdown",
   "metadata": {},
   "source": [
    "### Functions\n",
    "\n",
    "Functions are always defined anonymously as lambda functions. If you would like to give a function a name, a `let` expression can be used. For instance, the following program defines a function `double` that doubles the value of its argument."
   ]
  },
  {
   "cell_type": "code",
   "execution_count": null,
   "metadata": {},
   "outputs": [],
   "source": [
    "let double = lam x. muli x 2"
   ]
  },
  {
   "cell_type": "code",
   "execution_count": null,
   "metadata": {},
   "outputs": [],
   "source": [
    "double 5"
   ]
  },
  {
   "cell_type": "markdown",
   "metadata": {},
   "source": [
    "Types can be expressed in MCore programs, but they are currently not checked. For instance, the `double` function can be written as\n",
    "\n",
    "```\n",
    "let double = lam x:Int. muli x 2 in\n",
    "```\n",
    "\n",
    "This means that `double` has type `Int -> Int`, which can also be expressed as part of the `let` expression.\n",
    "\n",
    "```\n",
    "let double : Int -> Int = lam x. muli x 2 in\n",
    "```\n",
    "\n",
    "A function with several parameters are expressed using currying, using nested lambda expressions. For instance,"
   ]
  },
  {
   "cell_type": "code",
   "execution_count": null,
   "metadata": {},
   "outputs": [],
   "source": [
    "let foo = lam x. lam y. addi x y"
   ]
  },
  {
   "cell_type": "markdown",
   "metadata": {},
   "source": [
    "creates a function `foo` that takes two arguments."
   ]
  },
  {
   "cell_type": "code",
   "execution_count": null,
   "metadata": {},
   "outputs": [],
   "source": [
    "foo 2 3"
   ]
  },
  {
   "cell_type": "markdown",
   "metadata": {},
   "source": [
    "### `if` Expressions\n",
    "\n",
    "Conditional expressions can be expressed using `if` expressions. The program"
   ]
  },
  {
   "cell_type": "code",
   "execution_count": null,
   "metadata": {},
   "outputs": [],
   "source": [
    "let x = 5 in\n",
    "let answer = if (lti x 10) then \"yes\" else \"no\" in\n",
    "answer"
   ]
  },
  {
   "cell_type": "markdown",
   "metadata": {},
   "source": [
    "checks if `x` is less than 10 (using the `lti` function with signature `Int -> Int -> Bool`). If it is true, the string `\"yes\"` is returned, else string `\"no\"` is returned."
   ]
  },
  {
   "cell_type": "markdown",
   "metadata": {},
   "source": [
    "### Recursion\n",
    "\n",
    "A normal `let` expression cannot be used to define recursive functions. Instead, recursion can be defined using *recursive lets*, starting with the `recursive` keyword:"
   ]
  },
  {
   "cell_type": "code",
   "execution_count": null,
   "metadata": {},
   "outputs": [],
   "source": [
    "recursive\n",
    "let fact = lam n.\n",
    "  if eqi n 0\n",
    "    then 1\n",
    "    else muli n (fact (subi n 1))\n",
    "in\n",
    "fact 4"
   ]
  },
  {
   "cell_type": "markdown",
   "metadata": {},
   "source": [
    "It is also possible to use a recursive let in the top-level:"
   ]
  },
  {
   "cell_type": "code",
   "execution_count": null,
   "metadata": {},
   "outputs": [],
   "source": [
    "recursive\n",
    "let fact = lam n.\n",
    "  if eqi n 0\n",
    "    then 1\n",
    "    else muli n (fact (subi n 1))\n",
    "end"
   ]
  },
  {
   "cell_type": "code",
   "execution_count": null,
   "metadata": {},
   "outputs": [],
   "source": [
    "fact 4"
   ]
  },
  {
   "cell_type": "markdown",
   "metadata": {},
   "source": [
    "Recursive lets can also be used to define mutually recursive functions. For instance:"
   ]
  },
  {
   "cell_type": "code",
   "execution_count": null,
   "metadata": {},
   "outputs": [],
   "source": [
    "recursive\n",
    "let odd = lam n.\n",
    "    if eqi n 1 then true\n",
    "    else if lti n 1 then false\n",
    "    else even (subi n 1)\n",
    "let even = lam n.\n",
    "    if eqi n 0 then true\n",
    "    else if lti n 0 then false\n",
    "    else odd (subi n 1)\n",
    "end"
   ]
  },
  {
   "cell_type": "code",
   "execution_count": null,
   "metadata": {},
   "outputs": [],
   "source": [
    "odd 4"
   ]
  },
  {
   "cell_type": "code",
   "execution_count": null,
   "metadata": {},
   "outputs": [],
   "source": [
    "even 4"
   ]
  },
  {
   "cell_type": "markdown",
   "metadata": {},
   "source": [
    "### Tuples\n",
    "\n",
    "Product types can be expressed using tuples. An n-tuple is defined using syntax `(e_1, ..., e_n)` where `e_1` to `e_n` are MCore expressions. Extracting a value from a tuple (projection) is performed using an expression `e.n` where `e` is the expression that is evaluated into a tuple, and `n` is an integer number representing the index of an element in the tuple. The first index in a tuple is `0`.\n",
    "\n",
    "For instance, in the following code"
   ]
  },
  {
   "cell_type": "code",
   "execution_count": null,
   "metadata": {},
   "outputs": [],
   "source": [
    "let t = (addi 1 2, \"hi\", 80)"
   ]
  },
  {
   "cell_type": "code",
   "execution_count": null,
   "metadata": {},
   "outputs": [],
   "source": [
    "t.0"
   ]
  },
  {
   "cell_type": "code",
   "execution_count": null,
   "metadata": {},
   "outputs": [],
   "source": [
    "t.1"
   ]
  },
  {
   "cell_type": "code",
   "execution_count": null,
   "metadata": {},
   "outputs": [],
   "source": [
    "t.2"
   ]
  },
  {
   "cell_type": "markdown",
   "metadata": {},
   "source": [
    "we create a 3-tuple `t` and project out its first value. Note that the different elements of a tuple can have different types. In this case, tuple `t` has type `(Int, String, Int)`.\n",
    "\n",
    "Singleton tuples are also supported: `(x,)` represents a tuple with `x` as its\n",
    "only element."
   ]
  },
  {
   "cell_type": "markdown",
   "metadata": {},
   "source": [
    "### Records\n",
    "\n",
    "Another more general form of product types are records. A record has\n",
    "named fields that can have different types. For instance,"
   ]
  },
  {
   "cell_type": "code",
   "execution_count": null,
   "metadata": {},
   "outputs": [],
   "source": [
    "{name = \"foobar\", age = 42}"
   ]
  },
  {
   "cell_type": "markdown",
   "metadata": {},
   "source": [
    "defines a record of type `{name : string, age : int}`. The order of the fields does not matter: the following would define the same record."
   ]
  },
  {
   "cell_type": "code",
   "execution_count": null,
   "metadata": {},
   "outputs": [],
   "source": [
    "{age = 42, name = \"foobar\"}"
   ]
  },
  {
   "cell_type": "markdown",
   "metadata": {},
   "source": [
    "To project out a value, a dot notation may be used."
   ]
  },
  {
   "cell_type": "code",
   "execution_count": null,
   "metadata": {},
   "outputs": [],
   "source": [
    "let r1 = {age = 42, name = \"foobar\"} in\n",
    "r1.age"
   ]
  },
  {
   "cell_type": "markdown",
   "metadata": {},
   "source": [
    "A record type is not just a general product type in MCore, it is the only\n",
    "product type. That is, a tuple is just *syntactic sugar* for a record. This means that the compiler encodes a tuple as a record, where the names of the fields are numbers `0`, `1`, etc. Labels can internally be any kind of string. For strings that cannot be defined as a normal identifier, the label form `#label\"x\"`\n",
    "can be used, where `x` is the string of the label.\n",
    "\n",
    "The following example shows how a tuple is actually encoded as a\n",
    "record."
   ]
  },
  {
   "cell_type": "code",
   "execution_count": null,
   "metadata": {},
   "outputs": [],
   "source": [
    "{#label\"0\" = true, #label\"1\" = 5}"
   ]
  },
  {
   "cell_type": "markdown",
   "metadata": {},
   "source": [
    "### Data Types and `match` expressions\n",
    "\n",
    "Sum types or variant types are constructed using `con` expressions (constructor expressions). In contrast to most other functional languages, the introduction of a new data type and the introduction of constructors are separated. For instance,"
   ]
  },
  {
   "cell_type": "code",
   "execution_count": null,
   "metadata": {},
   "outputs": [],
   "source": [
    "type Tree\n",
    "con Node : (Tree,Tree) -> Tree\n",
    "con Leaf : (Int) -> Tree"
   ]
  },
  {
   "cell_type": "markdown",
   "metadata": {},
   "source": [
    "introduces a new data type `Tree` and defines two new constructors `Node` and `Leaf`. Constructor `Leaf` takes just one argument (an integer value for the leaf) and returns a tree, whereas the `Node` constructor takes a tuple with two trees as input and constructs a new tree node.\n",
    "\n",
    "For instance,"
   ]
  },
  {
   "cell_type": "code",
   "execution_count": null,
   "metadata": {},
   "outputs": [],
   "source": [
    "let tree = Node(Node(Leaf 4, Leaf 2), Leaf 3)"
   ]
  },
  {
   "cell_type": "markdown",
   "metadata": {},
   "source": [
    "is a small tree named `tree`.\n",
    "\n",
    "Assume now that we want to count the sum of the values of all leaves in a tree. We can then write a recursive function that performs the counting:"
   ]
  },
  {
   "cell_type": "code",
   "execution_count": null,
   "metadata": {},
   "outputs": [],
   "source": [
    "recursive\n",
    "  let count = lam tree.\n",
    "    match tree with Node t then\n",
    "      let left = t.0 in\n",
    "      let right = t.1 in\n",
    "      addi (count left) (count right)\n",
    "    else match tree with Leaf v then v\n",
    "    else error \"Unknown node\"\n",
    "in\n",
    "\n",
    "count tree"
   ]
  },
  {
   "cell_type": "markdown",
   "metadata": {},
   "source": [
    "The `match` expression inside the `count` function *deconstructs* data values by matching against a given constructor. For instance, the `match` expression\n",
    "\n",
    "```\n",
    "match tree with Node t then expr1 else expr2\n",
    "```\n",
    "\n",
    "matches the value after evaluating expression `tree` and checks if its outer most constructor is a `Node` constructor. If that is the case, the identifier `t` in expression `expr1` is bound to the tuple consisting of the node's two sub trees (recall the definition of the constructor `Node`)."
   ]
  },
  {
   "cell_type": "markdown",
   "metadata": {},
   "source": [
    "### Pattern matching\n",
    "\n",
    "In the previous match example, the `match` construct matched against\n",
    "the constructor, but not against the actual data content. MExpr is\n",
    "designed to be simple with few language construct, at the right level\n",
    "of abstraction. If the abstraction level is too low, it is hard to\n",
    "perform useful static analysis and code generation. As a consequence,\n",
    "MExpr support *patterns* in `match` expressions. The `count` function\n",
    "can be rewritten as\n"
   ]
  },
  {
   "cell_type": "code",
   "execution_count": null,
   "metadata": {},
   "outputs": [],
   "source": [
    "recursive\n",
    "  let count = lam tree.\n",
    "    match tree with Node(left,right) then\n",
    "      addi (count left) (count right)\n",
    "    else match tree with Leaf v then v\n",
    "    else error \"Unknown node\"\n",
    "end"
   ]
  },
  {
   "cell_type": "markdown",
   "metadata": {},
   "source": [
    "where the match construct matches against pattern `Node(left,right)`,\n",
    "where `left` and `right` are pattern variables.\n",
    "\n",
    "Remember, however, that tuples are just syntactic sugar for records. Hence, match line\n",
    "\n",
    "```\n",
    "    match tree with Node(left,right) then\n",
    "```\n",
    "is equivalent to the following\n",
    "```\n",
    "    match tree with Node {#label\"0\"=left,#label\"1\"=right} then\n",
    "```\n",
    "where the pattern is a *record pattern*.\n",
    "\n",
    "Pattern matching is the general form of deconstructing data in MExpr. Patterns can also be nested:"
   ]
  },
  {
   "cell_type": "code",
   "execution_count": null,
   "metadata": {},
   "outputs": [],
   "source": [
    "match {foo=7,bar={more=\"hello\"}} with {foo=_,bar={more=str}} then str else \"\""
   ]
  },
  {
   "cell_type": "markdown",
   "metadata": {},
   "source": [
    "Note also the use of *wildcard* patterns `_` (used in the `foo`\n",
    "field), which matches any value.\n",
    "\n",
    "Finally, MExpr also supports more advanced patterns, including `AND` patterns (using infix notation `&`)"
   ]
  },
  {
   "cell_type": "code",
   "execution_count": null,
   "metadata": {},
   "outputs": [],
   "source": [
    "match (1, 2) with (a, _) & b then (a, b) else (0, (0, 0))"
   ]
  },
  {
   "cell_type": "markdown",
   "metadata": {},
   "source": [
    "`OR` patterns (using infix notation `|`)"
   ]
  },
  {
   "cell_type": "code",
   "execution_count": null,
   "metadata": {},
   "outputs": [],
   "source": [
    "type K in\n",
    "con K1: (Int) -> K in\n",
    "con K2: (Int) -> K in\n",
    "\n",
    "match K1 1 with K1 a | K2 a then a else 0"
   ]
  },
  {
   "cell_type": "markdown",
   "metadata": {},
   "source": [
    "and `NOT` patterns (using the prefix notation `!`)"
   ]
  },
  {
   "cell_type": "code",
   "execution_count": null,
   "metadata": {},
   "outputs": [],
   "source": [
    "match Some true with a & !(None ()) then a else Some false"
   ]
  },
  {
   "cell_type": "code",
   "execution_count": null,
   "metadata": {},
   "outputs": [],
   "source": [
    "match None () with a & !(None ()) then a else Some false"
   ]
  },
  {
   "cell_type": "markdown",
   "metadata": {},
   "source": [
    "These are present to make it possible to translate order-dependent patterns to order-*in*dependent patterns. For example, in OCaml,\n",
    "\n",
    "```ocaml\n",
    "match (opt1, opt2) with\n",
    "| (Some a, _) -> a\n",
    "| (_, Some a) -> a\n",
    "| (_, _) -> 1\n",
    "```\n",
    "\n",
    "is order-dependent; any change in pattern order changes which match-arm is executed. To express this in an order-independent manner we `&` every pattern with the inverse (`!`) of the union (`|`) of the previous patterns. If we pretent for a moment that OCaml supports `&` and `!` in patterns they could then be written as:\n",
    "\n",
    "```ocaml\n",
    "match (opt1, opt2) with\n",
    "| (Some a, _) -> a\n",
    "| (_, Some a) & !(Some a, _) -> a\n",
    "| (_, _) & !((Some a, _) | (_, Some a))-> 1\n",
    "```\n",
    "\n",
    "The order can now be changed freely without affecting the semantics. In practice `&` and `!` will probably rarely be used in manually written code, while `|` is rather more useful.\n"
   ]
  },
  {
   "cell_type": "markdown",
   "metadata": {},
   "source": [
    "### Sequences\n",
    "\n",
    "An MCore sequence is constructed using syntax `[e_1, ..., e_n]`. All elements in a sequence must have the same type. For instance, an expression"
   ]
  },
  {
   "cell_type": "code",
   "execution_count": null,
   "metadata": {},
   "outputs": [],
   "source": [
    "[1,3,6,7,22,3]"
   ]
  },
  {
   "cell_type": "markdown",
   "metadata": {},
   "source": [
    "has type `[Int]` whereas the expression"
   ]
  },
  {
   "cell_type": "code",
   "execution_count": null,
   "metadata": {},
   "outputs": [],
   "source": [
    "[\"this\", \"is\", \"a\", \"test\"]"
   ]
  },
  {
   "cell_type": "markdown",
   "metadata": {},
   "source": [
    "has type `[String]`.\n",
    "\n",
    "As you may already have noticed, a string itself is actually a sequence of characters. This means that the type `String` is just an abbreviation for the sequence type `[Char]`.\n",
    "\n",
    "There are several operations defined for sequences, for instance, the `concat` function concatenates two sequences"
   ]
  },
  {
   "cell_type": "code",
   "execution_count": null,
   "metadata": {},
   "outputs": [],
   "source": [
    "concat [1,3,5] [7,9]"
   ]
  },
  {
   "cell_type": "markdown",
   "metadata": {},
   "source": [
    "or the `get` function picks out the nth element of a sequence"
   ]
  },
  {
   "cell_type": "code",
   "execution_count": null,
   "metadata": {},
   "outputs": [],
   "source": [
    "get [3,5,8,9] 2"
   ]
  },
  {
   "cell_type": "markdown",
   "metadata": {},
   "source": [
    "It is also possible to pattern match on sequences, to either extract the *tail* of a sequence, if the first part matches"
   ]
  },
  {
   "cell_type": "code",
   "execution_count": null,
   "metadata": {},
   "outputs": [],
   "source": [
    "match \"foobar\" with \"fo\" ++ rest then rest else \"\""
   ]
  },
  {
   "cell_type": "markdown",
   "metadata": {},
   "source": [
    "or the *head* of a sequence if the last part matches:"
   ]
  },
  {
   "cell_type": "code",
   "execution_count": null,
   "metadata": {},
   "outputs": [],
   "source": [
    "match \"foobar\" with first ++ \"bar\" then first else \"\""
   ]
  },
  {
   "cell_type": "markdown",
   "metadata": {},
   "source": [
    "It is even possible to extract the middle of a sequence, if the head and the tail matches:"
   ]
  },
  {
   "cell_type": "code",
   "execution_count": null,
   "metadata": {
    "scrolled": true
   },
   "outputs": [],
   "source": [
    "match \"foobar\" with \"fo\" ++ mid ++ \"ar\" then mid else \"\""
   ]
  },
  {
   "cell_type": "markdown",
   "metadata": {},
   "source": [
    "Again, matching can be combined and nested:"
   ]
  },
  {
   "cell_type": "code",
   "execution_count": null,
   "metadata": {},
   "outputs": [],
   "source": [
    "match (1,[[\"a\",\"b\"],[\"c\"]],76) with (1,b++[[\"c\"]],76) then b else []"
   ]
  },
  {
   "cell_type": "markdown",
   "metadata": {},
   "source": [
    "### Includes\n",
    "\n",
    "To include code from the standard library, or from an MCore file you've written yourself, you can use the `include` keyword. This will introduce all top-level definitions from the included file into the top-level scope. The filepath to `include` can be any standard library file or a valid filepath to a user-defined file."
   ]
  },
  {
   "cell_type": "code",
   "execution_count": null,
   "metadata": {},
   "outputs": [],
   "source": [
    "include \"string.mc\""
   ]
  },
  {
   "cell_type": "markdown",
   "metadata": {},
   "source": [
    "Now, the functions from the standard library file `string.mc` can be used."
   ]
  },
  {
   "cell_type": "code",
   "execution_count": null,
   "metadata": {},
   "outputs": [],
   "source": [
    "print (strJoin \", \" [\"Hello\", \"world!\"])"
   ]
  },
  {
   "cell_type": "markdown",
   "metadata": {},
   "source": [
    "### Language Fragments\n",
    "\n",
    "A language fragment contains definitions of (abstract) syntax, and\n",
    "semantics (\"interpreters\") for that fragment. Any number of\n",
    "language fragments can be defined in the top-level of an\n",
    "MCore program. For example, here is a language fragment for simple\n",
    "arithmetics:"
   ]
  },
  {
   "cell_type": "code",
   "execution_count": null,
   "metadata": {},
   "outputs": [],
   "source": [
    "lang Arith\n",
    "  syn Expr =\n",
    "  | Num Int\n",
    "  | Add (Expr, Expr)\n",
    "\n",
    "  sem eval =\n",
    "  | Num n -> Num n\n",
    "  | Add (e1,e2) ->\n",
    "    match eval e1 with Num n1 then\n",
    "      match eval e2 with Num n2 then\n",
    "        Num (addi n1 n2)\n",
    "      else error \"Not a number\"\n",
    "    else error \"Not a number\"\n",
    "end"
   ]
  },
  {
   "cell_type": "markdown",
   "metadata": {},
   "source": [
    "The fragment defines a syntactic form with two cases called\n",
    "`Expr`, and an interpreter called `eval`. An interpreter in MLang\n",
    "is a function that is always defined by cases over its last\n",
    "argument (here, `eval` takes only a single argument). The body of\n",
    "a case is a regular MExpr term, which has access to the name of\n",
    "the value (if any) carried by the current syntactic form.\n",
    "\n",
    "In an expression, a language fragment can be opened by\n",
    "a `use` expression:"
   ]
  },
  {
   "cell_type": "code",
   "execution_count": null,
   "metadata": {},
   "outputs": [],
   "source": [
    "use Arith in\n",
    "eval (Add (Num 2, Num 3))"
   ]
  },
  {
   "cell_type": "markdown",
   "metadata": {},
   "source": [
    "A `use` is translated into a series of MExpr definitions that\n",
    "match the syntax and semantics of the specified language fragment.\n",
    "\n",
    "An important feature of language fragments is that they can be\n",
    "composed to form new language fragments. As an example, we might\n",
    "want to extend our arithmetics language with booleans and `if`\n",
    "expressions:"
   ]
  },
  {
   "cell_type": "code",
   "execution_count": null,
   "metadata": {},
   "outputs": [],
   "source": [
    "lang Bool\n",
    "  syn Expr =\n",
    "  | True()\n",
    "  | False()\n",
    "  | If (Expr, Expr, Expr)\n",
    "\n",
    "  sem eval =\n",
    "  | True() -> True()\n",
    "  | False() -> False()\n",
    "  | If(cnd,thn,els) ->\n",
    "    let cndVal = eval cnd in\n",
    "    match cndVal with True() then eval thn\n",
    "    else match cndVal with False() then eval els\n",
    "    else error \"Not a boolean\"\n",
    "end\n",
    "\n",
    "lang ArithBool = Arith + Bool"
   ]
  },
  {
   "cell_type": "code",
   "execution_count": null,
   "metadata": {},
   "outputs": [],
   "source": [
    "use ArithBool in\n",
    "eval (Add (If (False(), Num 0, Num 5), Num 2))"
   ]
  },
  {
   "cell_type": "markdown",
   "metadata": {},
   "source": [
    "The language fragment `ArithBool` is indistinguishable from a\n",
    "language fragment with all the syntactic and semantic cases of\n",
    "`Arith` and `Bool` merged. If we wanted, we could have added new\n",
    "cases to the language composition as well, and refer to the syntax\n",
    "and semantics of the fragments being composed:"
   ]
  },
  {
   "cell_type": "code",
   "execution_count": null,
   "metadata": {},
   "outputs": [],
   "source": [
    "lang ArithBool = Arith + Bool\n",
    "  syn Expr =\n",
    "  | IsZero Expr\n",
    "\n",
    "  sem eval =\n",
    "  | IsZero e ->\n",
    "    match eval e with Num n then\n",
    "      if eqi n 0 then True() else False()\n",
    "    else\n",
    "      error \"Not a number\"\n",
    "end"
   ]
  },
  {
   "cell_type": "code",
   "execution_count": null,
   "metadata": {},
   "outputs": [],
   "source": [
    "use ArithBool in\n",
    "eval (IsZero (If (False(), Num 1, Num 0)))"
   ]
  },
  {
   "cell_type": "markdown",
   "metadata": {},
   "source": [
    "## Python Intrinsics"
   ]
  },
  {
   "cell_type": "markdown",
   "metadata": {},
   "source": [
    "An optional feature of MCore is Python intrinsics, which allow calling Python functions from MCore code. The Jupyter kernel includes these features.\n",
    "\n",
    "The following example shows how to use the intrinsics to sort a sequence using\n",
    "Python's builtin `sorted` function. Before you can call a Python function, you will need to import the relevant Python module using `pyimport`."
   ]
  },
  {
   "cell_type": "code",
   "execution_count": null,
   "metadata": {},
   "outputs": [],
   "source": [
    "let builtins = pyimport \"builtins\""
   ]
  },
  {
   "cell_type": "markdown",
   "metadata": {},
   "source": [
    "Any module in the Python path can be imported in this way. Now, `pycall` can be used to call a function from that module."
   ]
  },
  {
   "cell_type": "code",
   "execution_count": null,
   "metadata": {},
   "outputs": [],
   "source": [
    "let x = [5,4,2,1,3]\n",
    "let y = pycall builtins \"sorted\" (x,)"
   ]
  },
  {
   "cell_type": "code",
   "execution_count": null,
   "metadata": {},
   "outputs": [],
   "source": [
    "y"
   ]
  },
  {
   "cell_type": "markdown",
   "metadata": {},
   "source": [
    "The result of the `pycall` is a Python value. Python values can be passed to other Python functions, but not regular MCore functions:"
   ]
  },
  {
   "cell_type": "code",
   "execution_count": null,
   "metadata": {},
   "outputs": [],
   "source": [
    "pycall builtins \"print\" (y,)"
   ]
  },
  {
   "cell_type": "code",
   "execution_count": null,
   "metadata": {},
   "outputs": [],
   "source": [
    "map (addi 2) y"
   ]
  },
  {
   "cell_type": "markdown",
   "metadata": {},
   "source": [
    "To recover an MCore value from a Python value, use the `pyconvert` intrinsic."
   ]
  },
  {
   "cell_type": "code",
   "execution_count": null,
   "metadata": {},
   "outputs": [],
   "source": [
    "let y_mcore = pyconvert y in\n",
    "map (addi 2) y_mcore"
   ]
  },
  {
   "cell_type": "markdown",
   "metadata": {},
   "source": [
    "Most basic values can be converted between Python and MCore types; the main exceptions are Python classes and MCore user-defined data types. For a detailed explanation, see [the main README](./README.md)."
   ]
  },
  {
   "cell_type": "markdown",
   "metadata": {},
   "source": [
    "## Additional Notebook Features\n",
    "\n",
    "In addition to what we've already seen, the Jupyter kernel also offers some additional features.\n",
    "\n",
    "### Autocompletion\n",
    "One thing that you may not have noticed is that autocompletion is available. To get completions, use `Tab` after starting to type a name. Try it out in the cell below."
   ]
  },
  {
   "cell_type": "code",
   "execution_count": null,
   "metadata": {},
   "outputs": [],
   "source": [
    "option"
   ]
  },
  {
   "cell_type": "markdown",
   "metadata": {},
   "source": [
    "### Python Cells\n",
    "\n",
    "The MCore kernel also allows executing Python code and interacting with it from\n",
    "MCore. Use the special directive `%%python` at the top of a cell to evaluate\n",
    "Python code.\n",
    "\n",
    "For example, the following cell defines a Python function `foo` and calls it."
   ]
  },
  {
   "cell_type": "code",
   "execution_count": null,
   "metadata": {},
   "outputs": [],
   "source": [
    "%%python\n",
    "def foo(x):\n",
    "  print(\"foo\"+x)\n",
    "\n",
    "foo(\"bar\")"
   ]
  },
  {
   "cell_type": "markdown",
   "metadata": {},
   "source": [
    "You can call the functions you have defined in Python cells in normal MCore\n",
    "cells by using the Python intrinsics. A user-defined function can\n",
    "be called by importing and using the Python module `__main__`. For example,\n",
    "consider the following cell:"
   ]
  },
  {
   "cell_type": "code",
   "execution_count": null,
   "metadata": {},
   "outputs": [],
   "source": [
    "let m = pyimport \"__main__\" in\n",
    "let x = \"baz\" in\n",
    "pycall m \"foo\" (x,)"
   ]
  },
  {
   "cell_type": "markdown",
   "metadata": {},
   "source": [
    "This cell calls the Python function `foo` defined above, printing\n",
    "`foobaz` as expected."
   ]
  },
  {
   "cell_type": "markdown",
   "metadata": {},
   "source": [
    "### Plotting Graphs\n",
    "It is possible to plot graphs using the Python library `matplotlib`.\n",
    "The Jupyter kernel offers integration with `matplotlib` to display plots\n",
    "directly in a notebook.\n",
    "\n",
    "To use this functionality, first make sure that `matplotlib` is installed (if\n",
    "not, you can install it using `pip`). Now, when you use `matplotlib`'s plot\n",
    "functions in a notebook cell, the plots will be displayed as part of the cell's\n",
    "output. For example, try the following cell:"
   ]
  },
  {
   "cell_type": "code",
   "execution_count": null,
   "metadata": {},
   "outputs": [],
   "source": [
    "let plt = pyimport \"matplotlib.pyplot\"\n",
    "let x = [1,2,4,8]\n",
    "let _ = pycall plt \"plot\" (x,)"
   ]
  },
  {
   "cell_type": "markdown",
   "metadata": {},
   "source": [
    "While this example uses the Python intrinsics, running the plot code directly in\n",
    "a Python cell would of course also work."
   ]
  },
  {
   "cell_type": "code",
   "execution_count": null,
   "metadata": {},
   "outputs": [],
   "source": []
  }
 ],
 "metadata": {
  "kernelspec": {
   "display_name": "MCore",
   "language": "",
   "name": "kernel"
  },
  "language_info": {
   "codemirror_mode": "mcore",
   "file_extension": ".mc",
   "mimetype": "text",
   "name": "MCore",
   "version": "0.1"
  }
 },
 "nbformat": 4,
 "nbformat_minor": 2
}
