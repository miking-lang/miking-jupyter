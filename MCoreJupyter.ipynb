{
 "cells": [
  {
   "cell_type": "markdown",
   "metadata": {},
   "source": [
    "# MCore Jupyter\n",
    "\n",
    "Miking (Meta vIKING) is a meta language system for creating embedded domain-specific and general-purpose languages. Miking is not a programming language, but rather a language system for\n",
    "creating languages and generating efficient compilers.\n",
    "\n",
    "This notebook showcases the Miking Core (MCore) Jupyter kernel's capabilities. When going through the notebook, we recommend playing around with it by changing the values in code cells or trying out your own examples.\n",
    "\n",
    "## Table of Contents\n",
    "1. [Basic Examples](#MCore)\n",
    "2. [Python Intrinsics](#Python-Intrinsics)\n",
    "3. [Additional Notebook Features](#Notebook-Features)"
   ]
  },
  {
   "cell_type": "markdown",
   "metadata": {},
   "source": [
    "## Basic Examples\n",
    "\n",
    "The Jupyter kernel supports all features of the MCore language, excluding utests. The following cells show some examples."
   ]
  },
  {
   "cell_type": "code",
   "execution_count": null,
   "metadata": {},
   "outputs": [],
   "source": [
    "print \"Hello\\n\""
   ]
  },
  {
   "cell_type": "code",
   "execution_count": null,
   "metadata": {},
   "outputs": [],
   "source": [
    "let x = addi 1 2 in\n",
    "x"
   ]
  },
  {
   "cell_type": "code",
   "execution_count": null,
   "metadata": {},
   "outputs": [],
   "source": [
    "let double = lam x. muli x 2\n",
    "let foo = lam x. lam y. addi x y"
   ]
  },
  {
   "cell_type": "code",
   "execution_count": null,
   "metadata": {},
   "outputs": [],
   "source": [
    "recursive\n",
    "let odd = lam n.\n",
    "    if eqi n 1 then true\n",
    "    else if lti n 1 then false\n",
    "    else even (subi n 1)\n",
    "let even = lam n.\n",
    "    if eqi n 0 then true\n",
    "    else if lti n 0 then false\n",
    "    else odd (subi n 1)\n",
    "end"
   ]
  },
  {
   "cell_type": "code",
   "execution_count": null,
   "metadata": {
    "scrolled": true
   },
   "outputs": [],
   "source": [
    "(odd 4, even 4)"
   ]
  },
  {
   "cell_type": "code",
   "execution_count": null,
   "metadata": {},
   "outputs": [],
   "source": [
    "let x_test = 5"
   ]
  },
  {
   "cell_type": "code",
   "execution_count": null,
   "metadata": {},
   "outputs": [],
   "source": [
    "type Tree\n",
    "con Node : (Tree,Tree) -> Tree\n",
    "con Leaf : (Int) -> Tree\n",
    "\n",
    "let tree = Node(Node(Leaf 4, Leaf 2), Leaf 3)\n",
    "\n",
    "recursive\n",
    "  let count = lam tree.\n",
    "    match tree with Node t then\n",
    "      let left = t.0 in\n",
    "      let right = t.1 in\n",
    "      addi (count left) (count right)\n",
    "    else match tree with Leaf v then v\n",
    "    else error \"Unknown node\"\n",
    "end"
   ]
  },
  {
   "cell_type": "code",
   "execution_count": null,
   "metadata": {},
   "outputs": [],
   "source": [
    "count tree"
   ]
  },
  {
   "cell_type": "code",
   "execution_count": null,
   "metadata": {},
   "outputs": [],
   "source": [
    "include \"string.mc\"\n",
    "include \"seq.mc\"\n",
    "\n",
    "mexpr\n",
    "int2string 23"
   ]
  },
  {
   "cell_type": "code",
   "execution_count": null,
   "metadata": {},
   "outputs": [],
   "source": [
    "map double [1,2,3]"
   ]
  },
  {
   "cell_type": "code",
   "execution_count": null,
   "metadata": {},
   "outputs": [],
   "source": [
    "lang Arith\n",
    "  syn Expr =\n",
    "  | Num Int\n",
    "  | Add (Expr, Expr)\n",
    "\n",
    "  sem eval =\n",
    "  | Num n -> Num n\n",
    "  | Add (e1,e2) ->\n",
    "    match eval e1 with Num n1 then\n",
    "      match eval e2 with Num n2 then\n",
    "        Num (addi n1 n2)\n",
    "      else error \"Not a number\"\n",
    "    else error \"Not a number\"\n",
    "end\n",
    "\n",
    "mexpr\n",
    "use Arith in\n",
    "eval (Add (Num 2, Num 3))"
   ]
  },
  {
   "cell_type": "code",
   "execution_count": null,
   "metadata": {},
   "outputs": [],
   "source": [
    "lang Bool\n",
    "  syn Expr =\n",
    "  | True()\n",
    "  | False()\n",
    "  | If (Expr, Expr, Expr)\n",
    "\n",
    "  sem eval =\n",
    "  | True() -> True()\n",
    "  | False() -> False()\n",
    "  | If(cnd,thn,els) ->\n",
    "    let cndVal = eval cnd in\n",
    "    match cndVal with True() then eval thn\n",
    "    else match cndVal with False() then eval els\n",
    "    else error \"Not a boolean\"\n",
    "end\n",
    "\n",
    "mexpr\n",
    "use Bool in\n",
    "eval (If (True(),False(),True()))"
   ]
  },
  {
   "cell_type": "code",
   "execution_count": null,
   "metadata": {},
   "outputs": [],
   "source": [
    "lang ArithBool = Arith + Bool\n",
    "  syn Expr =\n",
    "  | IsZero Expr\n",
    "\n",
    "  sem eval =\n",
    "  | IsZero e ->\n",
    "    match eval e with Num n then\n",
    "      if eqi n 0 then True() else False()\n",
    "    else\n",
    "      error \"Not a number\"\n",
    "end"
   ]
  },
  {
   "cell_type": "code",
   "execution_count": null,
   "metadata": {},
   "outputs": [],
   "source": [
    "use ArithBool in\n",
    "eval (If (IsZero (Num 0), (Num 1), (Num 3)))"
   ]
  },
  {
   "cell_type": "markdown",
   "metadata": {},
   "source": [
    "## Python Intrinsics"
   ]
  },
  {
   "cell_type": "markdown",
   "metadata": {},
   "source": [
    "An optional feature of MCore is Python intrinsics, which allow calling Python functions from MCore code. The Jupyter kernel includes these features.\n",
    "\n",
    "The following example shows how to use the intrinsics to sort a sequence using\n",
    "Python's builtin `sorted` function. Before you can call a Python function, you will need to import the relevant Python module using `pyimport`."
   ]
  },
  {
   "cell_type": "code",
   "execution_count": null,
   "metadata": {},
   "outputs": [],
   "source": [
    "let builtins = pyimport \"builtins\""
   ]
  },
  {
   "cell_type": "markdown",
   "metadata": {},
   "source": [
    "Any module in the Python path can be imported in this way. Now, `pycall` can be used to call a function from that module."
   ]
  },
  {
   "cell_type": "code",
   "execution_count": null,
   "metadata": {},
   "outputs": [],
   "source": [
    "let x = [5,4,2,1,3]\n",
    "let y = pycall builtins \"sorted\" (x,)"
   ]
  },
  {
   "cell_type": "code",
   "execution_count": null,
   "metadata": {},
   "outputs": [],
   "source": [
    "y"
   ]
  },
  {
   "cell_type": "markdown",
   "metadata": {},
   "source": [
    "The result of the `pycall` is a Python value. Python values can be passed to other Python functions, but not regular MCore functions:"
   ]
  },
  {
   "cell_type": "code",
   "execution_count": null,
   "metadata": {},
   "outputs": [],
   "source": [
    "pycall builtins \"print\" (y,)"
   ]
  },
  {
   "cell_type": "code",
   "execution_count": null,
   "metadata": {},
   "outputs": [],
   "source": [
    "map (addi 2) y"
   ]
  },
  {
   "cell_type": "markdown",
   "metadata": {},
   "source": [
    "To recover an MCore value from a Python value, use the `pyconvert` intrinsic."
   ]
  },
  {
   "cell_type": "code",
   "execution_count": null,
   "metadata": {},
   "outputs": [],
   "source": [
    "let y_mcore = pyconvert y in\n",
    "map (addi 2) y_mcore"
   ]
  },
  {
   "cell_type": "markdown",
   "metadata": {},
   "source": [
    "Most basic values can be converted between Python and MCore types; the main exceptions are Python classes and MCore user-defined data types. For a detailed explanation, see [the main README](./README.md)."
   ]
  },
  {
   "cell_type": "markdown",
   "metadata": {},
   "source": [
    "## Additional Notebook Features\n",
    "\n",
    "In addition to what we've already seen, the Jupyter kernel also offers some additional features.\n",
    "\n",
    "### Autocompletion\n",
    "One thing that you may not have noticed is that autocompletion is available. To get completions, use `Tab` after starting to type a name. Try it out in the cell below."
   ]
  },
  {
   "cell_type": "code",
   "execution_count": null,
   "metadata": {},
   "outputs": [],
   "source": [
    "option"
   ]
  },
  {
   "cell_type": "markdown",
   "metadata": {},
   "source": [
    "### Python Cells\n",
    "\n",
    "The MCore kernel also allows executing Python code and interacting with it from\n",
    "MCore. Use the special directive `%%python` at the top of a cell to evaluate\n",
    "Python code.\n",
    "\n",
    "For example, the following cell defines a Python function `foo` and calls it."
   ]
  },
  {
   "cell_type": "code",
   "execution_count": null,
   "metadata": {},
   "outputs": [],
   "source": [
    "%%python\n",
    "def foo(x):\n",
    "  print(\"foo\"+x)\n",
    "\n",
    "foo(\"bar\")"
   ]
  },
  {
   "cell_type": "markdown",
   "metadata": {},
   "source": [
    "You can call the functions you have defined in Python cells in normal MCore\n",
    "cells by using the Python intrinsics. A user-defined function can\n",
    "be called by importing and using the Python module `__main__`. For example,\n",
    "consider the following cell:"
   ]
  },
  {
   "cell_type": "code",
   "execution_count": null,
   "metadata": {},
   "outputs": [],
   "source": [
    "let m = pyimport \"__main__\" in\n",
    "let x = \"baz\" in\n",
    "pycall m \"foo\" (x,)"
   ]
  },
  {
   "cell_type": "markdown",
   "metadata": {},
   "source": [
    "This cell calls the Python function `foo` defined above, printing\n",
    "`foobaz` as expected."
   ]
  },
  {
   "cell_type": "markdown",
   "metadata": {},
   "source": [
    "### Plotting Graphs\n",
    "It is possible to plot graphs using the Python library `matplotlib`.\n",
    "The Jupyter kernel offers integration with `matplotlib` to display plots\n",
    "directly in a notebook.\n",
    "\n",
    "To use this functionality, first make sure that `matplotlib` is installed (if\n",
    "not, you can install it using `pip`). Now, when you use `matplotlib`'s plot\n",
    "functions in a notebook cell, the plots will be displayed as part of the cell's\n",
    "output. For example, try the following cell:"
   ]
  },
  {
   "cell_type": "code",
   "execution_count": null,
   "metadata": {},
   "outputs": [],
   "source": [
    "let plt = pyimport \"matplotlib.pyplot\"\n",
    "let x = [1,2,4,8]\n",
    "let _ = pycall plt \"plot\" (x,)"
   ]
  },
  {
   "cell_type": "markdown",
   "metadata": {},
   "source": [
    "While this example uses the Python intrinsics, running the plot code directly in\n",
    "a Python cell would of course also work."
   ]
  },
  {
   "cell_type": "markdown",
   "metadata": {},
   "source": [
    "### IPM Visualization\n",
    "The notebook also supports visualization using the IPM project's server. If the IPM visualization server is installed correctly, the following example should work:"
   ]
  },
  {
   "cell_type": "code",
   "execution_count": null,
   "metadata": {},
   "outputs": [],
   "source": [
    "-- Update this with the path to the IPM repo\n",
    "include \"/path/to/ipm/src/models/modelVisualizer.mc\""
   ]
  },
  {
   "cell_type": "code",
   "execution_count": null,
   "metadata": {},
   "outputs": [],
   "source": [
    "-- create your DFA\n",
    "let states = [\"s0\",\"s1\",\"s2\",\"s3\"]\n",
    "let transitions = [\n",
    "(\"s0\",\"s1\",'1'),\n",
    "(\"s1\",\"s1\",'1'),\n",
    "(\"s1\",\"s2\",'0'),\n",
    "(\"s2\",\"s1\",'1'),\n",
    "(\"s2\",\"s3\",'0'),\n",
    "(\"s3\",\"s1\",'1')\n",
    "]\n",
    "let startState = \"s0\"\n",
    "let acceptStates = [\"s3\"]\n",
    "let char2string = (lam b. [b])\n",
    "let dfa = dfaConstr states transitions startState acceptStates eqstr eqchar\n",
    "let model = DFA(dfa,\"1001010\",identity,char2string,\"RL\",[(\"s0\",\"start state\"),(\"s3\",\"accept state\")])"
   ]
  },
  {
   "cell_type": "markdown",
   "metadata": {},
   "source": [
    "After creating our model, the directive `%%visualize` can be used to produce the visualization. Note that the `formatModels` function outputs a string containing a JSON representation of the model to be visualized."
   ]
  },
  {
   "cell_type": "code",
   "execution_count": null,
   "metadata": {},
   "outputs": [],
   "source": [
    "%%visualize\n",
    "formatModels [model]"
   ]
  },
  {
   "cell_type": "code",
   "execution_count": null,
   "metadata": {},
   "outputs": [],
   "source": []
  }
 ],
 "metadata": {
  "kernelspec": {
   "display_name": "MCore",
   "language": "",
   "name": "mcore_kernel"
  },
  "language_info": {
   "codemirror_mode": "mcore",
   "file_extension": ".mc",
   "mimetype": "text",
   "name": "MCore",
   "version": "0.1"
  }
 },
 "nbformat": 4,
 "nbformat_minor": 2
}
