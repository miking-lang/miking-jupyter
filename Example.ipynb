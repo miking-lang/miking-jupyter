{
 "cells": [
  {
   "cell_type": "code",
   "execution_count": null,
   "metadata": {},
   "outputs": [],
   "source": [
    "mexpr\n",
    "print \"Hello\\n\""
   ]
  },
  {
   "cell_type": "code",
   "execution_count": null,
   "metadata": {},
   "outputs": [],
   "source": [
    "mexpr\n",
    "let x = addi 1 2 in\n",
    "x"
   ]
  },
  {
   "cell_type": "code",
   "execution_count": null,
   "metadata": {},
   "outputs": [],
   "source": [
    "let double = lam x. muli x 2\n",
    "let foo = lam x. lam y. addi x y"
   ]
  },
  {
   "cell_type": "code",
   "execution_count": null,
   "metadata": {},
   "outputs": [],
   "source": [
    "mexpr\n",
    "(double 5, foo 2 3)"
   ]
  },
  {
   "cell_type": "code",
   "execution_count": null,
   "metadata": {},
   "outputs": [],
   "source": [
    "recursive\n",
    "let odd = lam n.\n",
    "    if eqi n 1 then true\n",
    "    else if lti n 1 then false\n",
    "    else even (subi n 1)\n",
    "let even = lam n.\n",
    "    if eqi n 0 then true\n",
    "    else if lti n 0 then false\n",
    "    else odd (subi n 1)\n",
    "end"
   ]
  },
  {
   "cell_type": "code",
   "execution_count": null,
   "metadata": {},
   "outputs": [],
   "source": [
    "mexpr\n",
    "(odd 4, even 4)"
   ]
  },
  {
   "cell_type": "code",
   "execution_count": null,
   "metadata": {},
   "outputs": [],
   "source": [
    "type Tree\n",
    "con Node : (Tree,Tree) -> Tree\n",
    "con Leaf : (Int) -> Tree\n",
    "\n",
    "let tree = Node(Node(Leaf 4, Leaf 2), Leaf 3)\n",
    "\n",
    "recursive\n",
    "  let count = lam tree.\n",
    "    match tree with Node t then\n",
    "      let left = t.0 in\n",
    "      let right = t.1 in\n",
    "      addi (count left) (count right)\n",
    "    else match tree with Leaf v then v\n",
    "    else error \"Unknown node\"\n",
    "end"
   ]
  },
  {
   "cell_type": "code",
   "execution_count": null,
   "metadata": {},
   "outputs": [],
   "source": [
    "mexpr\n",
    "count tree"
   ]
  },
  {
   "cell_type": "code",
   "execution_count": null,
   "metadata": {},
   "outputs": [],
   "source": [
    "include \"string.mc\"\n",
    "include \"seq.mc\"\n",
    "\n",
    "mexpr\n",
    "int2string 23"
   ]
  },
  {
   "cell_type": "code",
   "execution_count": null,
   "metadata": {},
   "outputs": [],
   "source": [
    "mexpr\n",
    "map double [1,2,3]"
   ]
  },
  {
   "cell_type": "code",
   "execution_count": null,
   "metadata": {},
   "outputs": [],
   "source": [
    "lang Arith\n",
    "  syn Expr =\n",
    "  | Num Int\n",
    "  | Add (Expr, Expr)\n",
    "\n",
    "  sem eval =\n",
    "  | Num n -> Num n\n",
    "  | Add (e1,e2) ->\n",
    "    match eval e1 with Num n1 then\n",
    "      match eval e2 with Num n2 then\n",
    "        Num (addi n1 n2)\n",
    "      else error \"Not a number\"\n",
    "    else error \"Not a number\"\n",
    "end\n",
    "\n",
    "mexpr\n",
    "use Arith in\n",
    "eval (Add (Num 2, Num 3))"
   ]
  },
  {
   "cell_type": "code",
   "execution_count": null,
   "metadata": {},
   "outputs": [],
   "source": [
    "lang Bool\n",
    "  syn Expr =\n",
    "  | True()\n",
    "  | False()\n",
    "  | If (Expr, Expr, Expr)\n",
    "\n",
    "  sem eval =\n",
    "  | True() -> True()\n",
    "  | False() -> False()\n",
    "  | If(cnd,thn,els) ->\n",
    "    let cndVal = eval cnd in\n",
    "    match cndVal with True() then eval thn\n",
    "    else match cndVal with False() then eval els\n",
    "    else error \"Not a boolean\"\n",
    "end\n",
    "\n",
    "mexpr\n",
    "use Bool in\n",
    "eval (If (True(),False(),True()))"
   ]
  },
  {
   "cell_type": "code",
   "execution_count": null,
   "metadata": {},
   "outputs": [],
   "source": [
    "lang ArithBool = Arith + Bool\n",
    "  syn Expr =\n",
    "  | IsZero Expr\n",
    "\n",
    "  sem eval =\n",
    "  | IsZero e ->\n",
    "    match eval e with Num n then\n",
    "      if eqi n 0 then True() else False()\n",
    "    else\n",
    "      error \"Not a number\"\n",
    "end"
   ]
  },
  {
   "cell_type": "code",
   "execution_count": null,
   "metadata": {},
   "outputs": [],
   "source": [
    "mexpr\n",
    "use ArithBool in\n",
    "eval (If (IsZero (Num 0), (Num 1), (Num 3)))"
   ]
  }
 ],
 "metadata": {
  "kernelspec": {
   "display_name": "MCore",
   "language": "",
   "name": "mcore_kernel"
  },
  "language_info": {
   "file_extension": ".mc",
   "mimetype": "text/plain",
   "name": "MCore"
  }
 },
 "nbformat": 4,
 "nbformat_minor": 4
}
